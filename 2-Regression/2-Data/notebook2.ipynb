{
 "cells": [
  {
   "attachments": {},
   "cell_type": "markdown",
   "metadata": {},
   "source": [
    "Assignment visualization "
   ]
  },
  {
   "cell_type": "code",
   "execution_count": 1,
   "metadata": {},
   "outputs": [
    {
     "name": "stdout",
     "output_type": "stream",
     "text": [
      "      Month               Package  Low Price  High Price  Price\n",
      "70        9  1 1/9 bushel cartons      15.00        15.0  13.50\n",
      "71        9  1 1/9 bushel cartons      18.00        18.0  16.20\n",
      "72       10  1 1/9 bushel cartons      18.00        18.0  16.20\n",
      "73       10  1 1/9 bushel cartons      17.00        17.0  15.30\n",
      "74       10  1 1/9 bushel cartons      15.00        15.0  13.50\n",
      "...     ...                   ...        ...         ...    ...\n",
      "1738      9    1/2 bushel cartons      15.00        15.0  30.00\n",
      "1739      9    1/2 bushel cartons      13.75        15.0  28.75\n",
      "1740      9    1/2 bushel cartons      10.75        15.0  25.75\n",
      "1741      9    1/2 bushel cartons      12.00        12.0  24.00\n",
      "1742      9    1/2 bushel cartons      12.00        12.0  24.00\n",
      "\n",
      "[415 rows x 5 columns]\n"
     ]
    }
   ],
   "source": [
    "import pandas as pd\n",
    "import matplotlib.pyplot as plt\n",
    "import numpy as np  \n",
    "\n",
    "# read the data in raw form\n",
    "pumpkins = pd.read_csv('US-pumpkins.csv')\n",
    "pumpkins = pumpkins[pumpkins['Package'].str.contains('bushel', case = True, regex = True)]\n",
    "\n",
    "\n",
    "# check if there are null data types\n",
    "pumpkins.isnull().sum()\n",
    "\n",
    "# drop the null data columns\n",
    "new_columns = ['Package', 'Month', 'Low Price', 'High Price', 'Date']\n",
    "pumpkins = pumpkins.drop([c for c in pumpkins.columns if c not in new_columns],axis=1)\n",
    "\n",
    "price = (pumpkins['Low Price'] + pumpkins['High Price']) / 2\n",
    "month = pd.DatetimeIndex(pumpkins['Date']).month \n",
    "\n",
    "# created a new dataframe with the new columns \n",
    "new_pumpkins = pd.DataFrame({'Month': month, 'Package': pumpkins['Package'], 'Low Price': pumpkins['Low Price'],'High Price': pumpkins['High Price'], 'Price': price})\n",
    "\n",
    "new_pumpkins.loc[new_pumpkins['Package'].str.contains('1 1/9'), 'Price'] = price/(1 +1/9)\n",
    "new_pumpkins.loc[new_pumpkins['Package'].str.contains('1/2'), 'Price'] = price/(1/2)\n",
    "\n",
    "print(new_pumpkins)"
   ]
  },
  {
   "cell_type": "code",
   "execution_count": 12,
   "metadata": {},
   "outputs": [
    {
     "data": {
      "image/png": "[encoded data removed]",
      "text/plain": [
       "<Figure size 640x480 with 1 Axes>"
      ]
     },
     "metadata": {},
     "output_type": "display_data"
    }
   ],
   "source": [
    "price = new_pumpkins.Price\n",
    "month = new_pumpkins.Month\n",
    "\n",
    "plt.hist(price, bins = [0, 5, 10, 15, 20, 25, 30], color = 'green')\n",
    "plt.title('Price Distribution')\n",
    "plt.show()"
   ]
  }
 ],
 "metadata": {
  "kernelspec": {
   "display_name": ".venv",
   "language": "python",
   "name": "python3"
  },
  "language_info": {
   "codemirror_mode": {
    "name": "ipython",
    "version": 3
   },
   "file_extension": ".py",
   "mimetype": "text/x-python",
   "name": "python",
   "nbconvert_exporter": "python",
   "pygments_lexer": "ipython3",
   "version": "3.11.0"
  },
  "orig_nbformat": 4
 },
 "nbformat": 4,
 "nbformat_minor": 2
}
